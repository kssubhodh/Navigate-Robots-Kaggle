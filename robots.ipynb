{
 "cells": [
  {
   "cell_type": "code",
   "execution_count": 27,
   "metadata": {},
   "outputs": [],
   "source": [
    "import pandas as pd \n",
    "import numpy as np\n",
    "import seaborn as sns\n",
    "import matplotlib.pyplot as plt"
   ]
  },
  {
   "cell_type": "code",
   "execution_count": 28,
   "metadata": {},
   "outputs": [],
   "source": [
    "x_train = pd.read_csv('X_train.csv')\n",
    "y_train = pd.read_csv('y_train.csv')\n",
    "x_test = pd.read_csv('X_test.csv')"
   ]
  },
  {
   "cell_type": "code",
   "execution_count": 29,
   "metadata": {},
   "outputs": [
    {
     "name": "stdout",
     "output_type": "stream",
     "text": [
      "Shape of dataset\n",
      "X Train: (487680, 13)\n",
      "y Train: (3810, 3)\n",
      "X Test: (488448, 13)\n"
     ]
    }
   ],
   "source": [
    "print(\"Shape of dataset\")\n",
    "print(\"X Train: {}\\ny Train: {}\\nX Test: {}\".format(x_train.shape, y_train.shape, x_test.shape))"
   ]
  },
  {
   "cell_type": "code",
   "execution_count": 66,
   "metadata": {},
   "outputs": [
    {
     "name": "stdout",
     "output_type": "stream",
     "text": [
      "      series_id  group_id   surface\n",
      "3602       3602        43      wood\n",
      "484         484         1     tiled\n",
      "1834       1834        60    carpet\n",
      "3533       3533        46      wood\n",
      "2540       2540        39  concrete\n"
     ]
    }
   ],
   "source": [
    "print(y_train.sample(5))"
   ]
  },
  {
   "cell_type": "code",
   "execution_count": 31,
   "metadata": {},
   "outputs": [
    {
     "data": {
      "text/html": [
       "<div>\n",
       "<style scoped>\n",
       "    .dataframe tbody tr th:only-of-type {\n",
       "        vertical-align: middle;\n",
       "    }\n",
       "\n",
       "    .dataframe tbody tr th {\n",
       "        vertical-align: top;\n",
       "    }\n",
       "\n",
       "    .dataframe thead th {\n",
       "        text-align: right;\n",
       "    }\n",
       "</style>\n",
       "<table border=\"1\" class=\"dataframe\">\n",
       "  <thead>\n",
       "    <tr style=\"text-align: right;\">\n",
       "      <th></th>\n",
       "      <th>row_id</th>\n",
       "      <th>series_id</th>\n",
       "      <th>measurement_number</th>\n",
       "      <th>orientation_X</th>\n",
       "      <th>orientation_Y</th>\n",
       "      <th>orientation_Z</th>\n",
       "      <th>orientation_W</th>\n",
       "      <th>angular_velocity_X</th>\n",
       "      <th>angular_velocity_Y</th>\n",
       "      <th>angular_velocity_Z</th>\n",
       "      <th>linear_acceleration_X</th>\n",
       "      <th>linear_acceleration_Y</th>\n",
       "      <th>linear_acceleration_Z</th>\n",
       "    </tr>\n",
       "  </thead>\n",
       "  <tbody>\n",
       "    <tr>\n",
       "      <th>0</th>\n",
       "      <td>0_0</td>\n",
       "      <td>0</td>\n",
       "      <td>0</td>\n",
       "      <td>-0.75853</td>\n",
       "      <td>-0.63435</td>\n",
       "      <td>-0.10488</td>\n",
       "      <td>-0.10597</td>\n",
       "      <td>0.107650</td>\n",
       "      <td>0.017561</td>\n",
       "      <td>0.000767</td>\n",
       "      <td>-0.74857</td>\n",
       "      <td>2.1030</td>\n",
       "      <td>-9.7532</td>\n",
       "    </tr>\n",
       "    <tr>\n",
       "      <th>1</th>\n",
       "      <td>0_1</td>\n",
       "      <td>0</td>\n",
       "      <td>1</td>\n",
       "      <td>-0.75853</td>\n",
       "      <td>-0.63434</td>\n",
       "      <td>-0.10490</td>\n",
       "      <td>-0.10600</td>\n",
       "      <td>0.067851</td>\n",
       "      <td>0.029939</td>\n",
       "      <td>0.003385</td>\n",
       "      <td>0.33995</td>\n",
       "      <td>1.5064</td>\n",
       "      <td>-9.4128</td>\n",
       "    </tr>\n",
       "    <tr>\n",
       "      <th>2</th>\n",
       "      <td>0_2</td>\n",
       "      <td>0</td>\n",
       "      <td>2</td>\n",
       "      <td>-0.75853</td>\n",
       "      <td>-0.63435</td>\n",
       "      <td>-0.10492</td>\n",
       "      <td>-0.10597</td>\n",
       "      <td>0.007275</td>\n",
       "      <td>0.028934</td>\n",
       "      <td>-0.005978</td>\n",
       "      <td>-0.26429</td>\n",
       "      <td>1.5922</td>\n",
       "      <td>-8.7267</td>\n",
       "    </tr>\n",
       "    <tr>\n",
       "      <th>3</th>\n",
       "      <td>0_3</td>\n",
       "      <td>0</td>\n",
       "      <td>3</td>\n",
       "      <td>-0.75852</td>\n",
       "      <td>-0.63436</td>\n",
       "      <td>-0.10495</td>\n",
       "      <td>-0.10597</td>\n",
       "      <td>-0.013053</td>\n",
       "      <td>0.019448</td>\n",
       "      <td>-0.008974</td>\n",
       "      <td>0.42684</td>\n",
       "      <td>1.0993</td>\n",
       "      <td>-10.0960</td>\n",
       "    </tr>\n",
       "    <tr>\n",
       "      <th>4</th>\n",
       "      <td>0_4</td>\n",
       "      <td>0</td>\n",
       "      <td>4</td>\n",
       "      <td>-0.75852</td>\n",
       "      <td>-0.63435</td>\n",
       "      <td>-0.10495</td>\n",
       "      <td>-0.10596</td>\n",
       "      <td>0.005135</td>\n",
       "      <td>0.007652</td>\n",
       "      <td>0.005245</td>\n",
       "      <td>-0.50969</td>\n",
       "      <td>1.4689</td>\n",
       "      <td>-10.4410</td>\n",
       "    </tr>\n",
       "  </tbody>\n",
       "</table>\n",
       "</div>"
      ],
      "text/plain": [
       "  row_id  series_id  measurement_number  orientation_X  orientation_Y  \\\n",
       "0    0_0          0                   0       -0.75853       -0.63435   \n",
       "1    0_1          0                   1       -0.75853       -0.63434   \n",
       "2    0_2          0                   2       -0.75853       -0.63435   \n",
       "3    0_3          0                   3       -0.75852       -0.63436   \n",
       "4    0_4          0                   4       -0.75852       -0.63435   \n",
       "\n",
       "   orientation_Z  orientation_W  angular_velocity_X  angular_velocity_Y  \\\n",
       "0       -0.10488       -0.10597            0.107650            0.017561   \n",
       "1       -0.10490       -0.10600            0.067851            0.029939   \n",
       "2       -0.10492       -0.10597            0.007275            0.028934   \n",
       "3       -0.10495       -0.10597           -0.013053            0.019448   \n",
       "4       -0.10495       -0.10596            0.005135            0.007652   \n",
       "\n",
       "   angular_velocity_Z  linear_acceleration_X  linear_acceleration_Y  \\\n",
       "0            0.000767               -0.74857                 2.1030   \n",
       "1            0.003385                0.33995                 1.5064   \n",
       "2           -0.005978               -0.26429                 1.5922   \n",
       "3           -0.008974                0.42684                 1.0993   \n",
       "4            0.005245               -0.50969                 1.4689   \n",
       "\n",
       "   linear_acceleration_Z  \n",
       "0                -9.7532  \n",
       "1                -9.4128  \n",
       "2                -8.7267  \n",
       "3               -10.0960  \n",
       "4               -10.4410  "
      ]
     },
     "execution_count": 31,
     "metadata": {},
     "output_type": "execute_result"
    }
   ],
   "source": [
    "x_train.head() "
   ]
  },
  {
   "cell_type": "code",
   "execution_count": 32,
   "metadata": {},
   "outputs": [
    {
     "data": {
      "text/html": [
       "<div>\n",
       "<style scoped>\n",
       "    .dataframe tbody tr th:only-of-type {\n",
       "        vertical-align: middle;\n",
       "    }\n",
       "\n",
       "    .dataframe tbody tr th {\n",
       "        vertical-align: top;\n",
       "    }\n",
       "\n",
       "    .dataframe thead th {\n",
       "        text-align: right;\n",
       "    }\n",
       "</style>\n",
       "<table border=\"1\" class=\"dataframe\">\n",
       "  <thead>\n",
       "    <tr style=\"text-align: right;\">\n",
       "      <th></th>\n",
       "      <th>row_id</th>\n",
       "      <th>series_id</th>\n",
       "      <th>measurement_number</th>\n",
       "      <th>orientation_X</th>\n",
       "      <th>orientation_Y</th>\n",
       "      <th>orientation_Z</th>\n",
       "      <th>orientation_W</th>\n",
       "      <th>angular_velocity_X</th>\n",
       "      <th>angular_velocity_Y</th>\n",
       "      <th>angular_velocity_Z</th>\n",
       "      <th>linear_acceleration_X</th>\n",
       "      <th>linear_acceleration_Y</th>\n",
       "      <th>linear_acceleration_Z</th>\n",
       "    </tr>\n",
       "  </thead>\n",
       "  <tbody>\n",
       "    <tr>\n",
       "      <th>0</th>\n",
       "      <td>0_0</td>\n",
       "      <td>0</td>\n",
       "      <td>0</td>\n",
       "      <td>0.91208</td>\n",
       "      <td>-0.38193</td>\n",
       "      <td>-0.050618</td>\n",
       "      <td>0.14028</td>\n",
       "      <td>-0.060205</td>\n",
       "      <td>0.071286</td>\n",
       "      <td>-0.18787</td>\n",
       "      <td>0.29492</td>\n",
       "      <td>2.8027</td>\n",
       "      <td>-9.6816</td>\n",
       "    </tr>\n",
       "    <tr>\n",
       "      <th>1</th>\n",
       "      <td>0_1</td>\n",
       "      <td>0</td>\n",
       "      <td>1</td>\n",
       "      <td>0.91220</td>\n",
       "      <td>-0.38165</td>\n",
       "      <td>-0.050573</td>\n",
       "      <td>0.14028</td>\n",
       "      <td>-0.033486</td>\n",
       "      <td>0.060210</td>\n",
       "      <td>-0.18206</td>\n",
       "      <td>0.14944</td>\n",
       "      <td>2.5408</td>\n",
       "      <td>-9.8521</td>\n",
       "    </tr>\n",
       "    <tr>\n",
       "      <th>2</th>\n",
       "      <td>0_2</td>\n",
       "      <td>0</td>\n",
       "      <td>2</td>\n",
       "      <td>0.91228</td>\n",
       "      <td>-0.38143</td>\n",
       "      <td>-0.050586</td>\n",
       "      <td>0.14032</td>\n",
       "      <td>-0.029686</td>\n",
       "      <td>0.029476</td>\n",
       "      <td>-0.18441</td>\n",
       "      <td>-0.49741</td>\n",
       "      <td>2.5853</td>\n",
       "      <td>-9.3835</td>\n",
       "    </tr>\n",
       "    <tr>\n",
       "      <th>3</th>\n",
       "      <td>0_3</td>\n",
       "      <td>0</td>\n",
       "      <td>3</td>\n",
       "      <td>0.91237</td>\n",
       "      <td>-0.38121</td>\n",
       "      <td>-0.050588</td>\n",
       "      <td>0.14035</td>\n",
       "      <td>-0.024217</td>\n",
       "      <td>0.037788</td>\n",
       "      <td>-0.18783</td>\n",
       "      <td>-0.32376</td>\n",
       "      <td>2.9966</td>\n",
       "      <td>-8.7415</td>\n",
       "    </tr>\n",
       "    <tr>\n",
       "      <th>4</th>\n",
       "      <td>0_4</td>\n",
       "      <td>0</td>\n",
       "      <td>4</td>\n",
       "      <td>0.91247</td>\n",
       "      <td>-0.38096</td>\n",
       "      <td>-0.050546</td>\n",
       "      <td>0.14042</td>\n",
       "      <td>-0.038047</td>\n",
       "      <td>0.083405</td>\n",
       "      <td>-0.20170</td>\n",
       "      <td>-0.70103</td>\n",
       "      <td>2.6498</td>\n",
       "      <td>-8.8432</td>\n",
       "    </tr>\n",
       "  </tbody>\n",
       "</table>\n",
       "</div>"
      ],
      "text/plain": [
       "  row_id  series_id  measurement_number  orientation_X  orientation_Y  \\\n",
       "0    0_0          0                   0        0.91208       -0.38193   \n",
       "1    0_1          0                   1        0.91220       -0.38165   \n",
       "2    0_2          0                   2        0.91228       -0.38143   \n",
       "3    0_3          0                   3        0.91237       -0.38121   \n",
       "4    0_4          0                   4        0.91247       -0.38096   \n",
       "\n",
       "   orientation_Z  orientation_W  angular_velocity_X  angular_velocity_Y  \\\n",
       "0      -0.050618        0.14028           -0.060205            0.071286   \n",
       "1      -0.050573        0.14028           -0.033486            0.060210   \n",
       "2      -0.050586        0.14032           -0.029686            0.029476   \n",
       "3      -0.050588        0.14035           -0.024217            0.037788   \n",
       "4      -0.050546        0.14042           -0.038047            0.083405   \n",
       "\n",
       "   angular_velocity_Z  linear_acceleration_X  linear_acceleration_Y  \\\n",
       "0            -0.18787                0.29492                 2.8027   \n",
       "1            -0.18206                0.14944                 2.5408   \n",
       "2            -0.18441               -0.49741                 2.5853   \n",
       "3            -0.18783               -0.32376                 2.9966   \n",
       "4            -0.20170               -0.70103                 2.6498   \n",
       "\n",
       "   linear_acceleration_Z  \n",
       "0                -9.6816  \n",
       "1                -9.8521  \n",
       "2                -9.3835  \n",
       "3                -8.7415  \n",
       "4                -8.8432  "
      ]
     },
     "execution_count": 32,
     "metadata": {},
     "output_type": "execute_result"
    }
   ],
   "source": [
    "x_test.head()"
   ]
  },
  {
   "cell_type": "code",
   "execution_count": 33,
   "metadata": {},
   "outputs": [
    {
     "data": {
      "text/plain": [
       "row_id                    object\n",
       "series_id                  int64\n",
       "measurement_number         int64\n",
       "orientation_X            float64\n",
       "orientation_Y            float64\n",
       "orientation_Z            float64\n",
       "orientation_W            float64\n",
       "angular_velocity_X       float64\n",
       "angular_velocity_Y       float64\n",
       "angular_velocity_Z       float64\n",
       "linear_acceleration_X    float64\n",
       "linear_acceleration_Y    float64\n",
       "linear_acceleration_Z    float64\n",
       "dtype: object"
      ]
     },
     "execution_count": 33,
     "metadata": {},
     "output_type": "execute_result"
    }
   ],
   "source": [
    "x_train.dtypes"
   ]
  },
  {
   "cell_type": "code",
   "execution_count": 67,
   "metadata": {},
   "outputs": [
    {
     "data": {
      "text/plain": [
       "series_id     int64\n",
       "group_id      int64\n",
       "surface      object\n",
       "dtype: object"
      ]
     },
     "execution_count": 67,
     "metadata": {},
     "output_type": "execute_result"
    }
   ],
   "source": [
    "y_train.dtypes"
   ]
  },
  {
   "cell_type": "markdown",
   "metadata": {},
   "source": [
    "### OBSERVATIONS: \n",
    "\n",
    "#### X_train and X_test datasets have the following entries:\n",
    "- <b> series and measurements identifiers </b> : row_id, series_id, measurement_number: these identify uniquely a series and measurement; there are 3809 series, each with max 127 measurements\n",
    "- <b> measurement orientations </b>: orientation_X, orientation_Y, orientation_Z, orientation_W\n",
    "- <b> angular velocities </b> : angular_velocity_X, angular_velocity_Y, angular_velocity_Z\n",
    "- <b> linear accelerations </b> : linear_acceleration_X, linear_acceleration_Y, linear_acceleration_Z\n",
    "\n",
    "#### y_train has the following columns:\n",
    "- <b> series_id </b> - this corresponds to the series in train data\n",
    "- <b>group_id</b>\n",
    "- <b>surface</b> - this is the surface type that need to be predicted"
   ]
  },
  {
   "cell_type": "markdown",
   "metadata": {},
   "source": [
    "### Checking for missing values : "
   ]
  },
  {
   "cell_type": "code",
   "execution_count": 34,
   "metadata": {},
   "outputs": [
    {
     "name": "stdout",
     "output_type": "stream",
     "text": [
      "row_id                   0\n",
      "series_id                0\n",
      "measurement_number       0\n",
      "orientation_X            0\n",
      "orientation_Y            0\n",
      "orientation_Z            0\n",
      "orientation_W            0\n",
      "angular_velocity_X       0\n",
      "angular_velocity_Y       0\n",
      "angular_velocity_Z       0\n",
      "linear_acceleration_X    0\n",
      "linear_acceleration_Y    0\n",
      "linear_acceleration_Z    0\n",
      "dtype: int64\n"
     ]
    }
   ],
   "source": [
    "print(x_train.isnull().sum())"
   ]
  },
  {
   "cell_type": "code",
   "execution_count": 35,
   "metadata": {},
   "outputs": [
    {
     "name": "stdout",
     "output_type": "stream",
     "text": [
      "row_id                   0\n",
      "series_id                0\n",
      "measurement_number       0\n",
      "orientation_X            0\n",
      "orientation_Y            0\n",
      "orientation_Z            0\n",
      "orientation_W            0\n",
      "angular_velocity_X       0\n",
      "angular_velocity_Y       0\n",
      "angular_velocity_Z       0\n",
      "linear_acceleration_X    0\n",
      "linear_acceleration_Y    0\n",
      "linear_acceleration_Z    0\n",
      "dtype: int64\n"
     ]
    }
   ],
   "source": [
    "print(x_test.isnull().sum())"
   ]
  },
  {
   "cell_type": "code",
   "execution_count": 36,
   "metadata": {},
   "outputs": [
    {
     "name": "stdout",
     "output_type": "stream",
     "text": [
      "series_id    0\n",
      "group_id     0\n",
      "surface      0\n",
      "dtype: int64\n"
     ]
    }
   ],
   "source": [
    "print(y_train.isnull().sum())"
   ]
  },
  {
   "cell_type": "markdown",
   "metadata": {},
   "source": [
    "#### observation: no missing values in dataset"
   ]
  },
  {
   "cell_type": "code",
   "execution_count": 37,
   "metadata": {},
   "outputs": [
    {
     "data": {
      "text/html": [
       "<div>\n",
       "<style scoped>\n",
       "    .dataframe tbody tr th:only-of-type {\n",
       "        vertical-align: middle;\n",
       "    }\n",
       "\n",
       "    .dataframe tbody tr th {\n",
       "        vertical-align: top;\n",
       "    }\n",
       "\n",
       "    .dataframe thead th {\n",
       "        text-align: right;\n",
       "    }\n",
       "</style>\n",
       "<table border=\"1\" class=\"dataframe\">\n",
       "  <thead>\n",
       "    <tr style=\"text-align: right;\">\n",
       "      <th></th>\n",
       "      <th>series_id</th>\n",
       "      <th>measurement_number</th>\n",
       "      <th>orientation_X</th>\n",
       "      <th>orientation_Y</th>\n",
       "      <th>orientation_Z</th>\n",
       "      <th>orientation_W</th>\n",
       "      <th>angular_velocity_X</th>\n",
       "      <th>angular_velocity_Y</th>\n",
       "      <th>angular_velocity_Z</th>\n",
       "      <th>linear_acceleration_X</th>\n",
       "      <th>linear_acceleration_Y</th>\n",
       "      <th>linear_acceleration_Z</th>\n",
       "    </tr>\n",
       "  </thead>\n",
       "  <tbody>\n",
       "    <tr>\n",
       "      <th>count</th>\n",
       "      <td>487680.000000</td>\n",
       "      <td>487680.000000</td>\n",
       "      <td>487680.000000</td>\n",
       "      <td>487680.000000</td>\n",
       "      <td>487680.000000</td>\n",
       "      <td>487680.000000</td>\n",
       "      <td>487680.000000</td>\n",
       "      <td>487680.000000</td>\n",
       "      <td>487680.000000</td>\n",
       "      <td>487680.000000</td>\n",
       "      <td>487680.000000</td>\n",
       "      <td>487680.000000</td>\n",
       "    </tr>\n",
       "    <tr>\n",
       "      <th>mean</th>\n",
       "      <td>1904.500000</td>\n",
       "      <td>63.500000</td>\n",
       "      <td>-0.018050</td>\n",
       "      <td>0.075062</td>\n",
       "      <td>0.012458</td>\n",
       "      <td>-0.003804</td>\n",
       "      <td>0.000178</td>\n",
       "      <td>0.008338</td>\n",
       "      <td>-0.019184</td>\n",
       "      <td>0.129281</td>\n",
       "      <td>2.886468</td>\n",
       "      <td>-9.364886</td>\n",
       "    </tr>\n",
       "    <tr>\n",
       "      <th>std</th>\n",
       "      <td>1099.853353</td>\n",
       "      <td>36.949327</td>\n",
       "      <td>0.685696</td>\n",
       "      <td>0.708226</td>\n",
       "      <td>0.105972</td>\n",
       "      <td>0.104299</td>\n",
       "      <td>0.117764</td>\n",
       "      <td>0.088677</td>\n",
       "      <td>0.229153</td>\n",
       "      <td>1.870600</td>\n",
       "      <td>2.140067</td>\n",
       "      <td>2.845341</td>\n",
       "    </tr>\n",
       "    <tr>\n",
       "      <th>min</th>\n",
       "      <td>0.000000</td>\n",
       "      <td>0.000000</td>\n",
       "      <td>-0.989100</td>\n",
       "      <td>-0.989650</td>\n",
       "      <td>-0.162830</td>\n",
       "      <td>-0.156620</td>\n",
       "      <td>-2.371000</td>\n",
       "      <td>-0.927860</td>\n",
       "      <td>-1.268800</td>\n",
       "      <td>-36.067000</td>\n",
       "      <td>-121.490000</td>\n",
       "      <td>-75.386000</td>\n",
       "    </tr>\n",
       "    <tr>\n",
       "      <th>25%</th>\n",
       "      <td>952.000000</td>\n",
       "      <td>31.750000</td>\n",
       "      <td>-0.705120</td>\n",
       "      <td>-0.688980</td>\n",
       "      <td>-0.089466</td>\n",
       "      <td>-0.106060</td>\n",
       "      <td>-0.040752</td>\n",
       "      <td>-0.033191</td>\n",
       "      <td>-0.090743</td>\n",
       "      <td>-0.530833</td>\n",
       "      <td>1.957900</td>\n",
       "      <td>-10.193000</td>\n",
       "    </tr>\n",
       "    <tr>\n",
       "      <th>50%</th>\n",
       "      <td>1904.500000</td>\n",
       "      <td>63.500000</td>\n",
       "      <td>-0.105960</td>\n",
       "      <td>0.237855</td>\n",
       "      <td>0.031949</td>\n",
       "      <td>-0.018704</td>\n",
       "      <td>0.000084</td>\n",
       "      <td>0.005412</td>\n",
       "      <td>-0.005335</td>\n",
       "      <td>0.124980</td>\n",
       "      <td>2.879600</td>\n",
       "      <td>-9.365300</td>\n",
       "    </tr>\n",
       "    <tr>\n",
       "      <th>75%</th>\n",
       "      <td>2857.000000</td>\n",
       "      <td>95.250000</td>\n",
       "      <td>0.651803</td>\n",
       "      <td>0.809550</td>\n",
       "      <td>0.122870</td>\n",
       "      <td>0.097215</td>\n",
       "      <td>0.040527</td>\n",
       "      <td>0.048068</td>\n",
       "      <td>0.064604</td>\n",
       "      <td>0.792263</td>\n",
       "      <td>3.798800</td>\n",
       "      <td>-8.522700</td>\n",
       "    </tr>\n",
       "    <tr>\n",
       "      <th>max</th>\n",
       "      <td>3809.000000</td>\n",
       "      <td>127.000000</td>\n",
       "      <td>0.989100</td>\n",
       "      <td>0.988980</td>\n",
       "      <td>0.155710</td>\n",
       "      <td>0.154770</td>\n",
       "      <td>2.282200</td>\n",
       "      <td>1.079100</td>\n",
       "      <td>1.387300</td>\n",
       "      <td>36.797000</td>\n",
       "      <td>73.008000</td>\n",
       "      <td>65.839000</td>\n",
       "    </tr>\n",
       "  </tbody>\n",
       "</table>\n",
       "</div>"
      ],
      "text/plain": [
       "           series_id  measurement_number  orientation_X  orientation_Y  \\\n",
       "count  487680.000000       487680.000000  487680.000000  487680.000000   \n",
       "mean     1904.500000           63.500000      -0.018050       0.075062   \n",
       "std      1099.853353           36.949327       0.685696       0.708226   \n",
       "min         0.000000            0.000000      -0.989100      -0.989650   \n",
       "25%       952.000000           31.750000      -0.705120      -0.688980   \n",
       "50%      1904.500000           63.500000      -0.105960       0.237855   \n",
       "75%      2857.000000           95.250000       0.651803       0.809550   \n",
       "max      3809.000000          127.000000       0.989100       0.988980   \n",
       "\n",
       "       orientation_Z  orientation_W  angular_velocity_X  angular_velocity_Y  \\\n",
       "count  487680.000000  487680.000000       487680.000000       487680.000000   \n",
       "mean        0.012458      -0.003804            0.000178            0.008338   \n",
       "std         0.105972       0.104299            0.117764            0.088677   \n",
       "min        -0.162830      -0.156620           -2.371000           -0.927860   \n",
       "25%        -0.089466      -0.106060           -0.040752           -0.033191   \n",
       "50%         0.031949      -0.018704            0.000084            0.005412   \n",
       "75%         0.122870       0.097215            0.040527            0.048068   \n",
       "max         0.155710       0.154770            2.282200            1.079100   \n",
       "\n",
       "       angular_velocity_Z  linear_acceleration_X  linear_acceleration_Y  \\\n",
       "count       487680.000000          487680.000000          487680.000000   \n",
       "mean            -0.019184               0.129281               2.886468   \n",
       "std              0.229153               1.870600               2.140067   \n",
       "min             -1.268800             -36.067000            -121.490000   \n",
       "25%             -0.090743              -0.530833               1.957900   \n",
       "50%             -0.005335               0.124980               2.879600   \n",
       "75%              0.064604               0.792263               3.798800   \n",
       "max              1.387300              36.797000              73.008000   \n",
       "\n",
       "       linear_acceleration_Z  \n",
       "count          487680.000000  \n",
       "mean               -9.364886  \n",
       "std                 2.845341  \n",
       "min               -75.386000  \n",
       "25%               -10.193000  \n",
       "50%                -9.365300  \n",
       "75%                -8.522700  \n",
       "max                65.839000  "
      ]
     },
     "execution_count": 37,
     "metadata": {},
     "output_type": "execute_result"
    }
   ],
   "source": [
    "x_train.describe()"
   ]
  },
  {
   "cell_type": "code",
   "execution_count": 38,
   "metadata": {},
   "outputs": [
    {
     "data": {
      "text/html": [
       "<div>\n",
       "<style scoped>\n",
       "    .dataframe tbody tr th:only-of-type {\n",
       "        vertical-align: middle;\n",
       "    }\n",
       "\n",
       "    .dataframe tbody tr th {\n",
       "        vertical-align: top;\n",
       "    }\n",
       "\n",
       "    .dataframe thead th {\n",
       "        text-align: right;\n",
       "    }\n",
       "</style>\n",
       "<table border=\"1\" class=\"dataframe\">\n",
       "  <thead>\n",
       "    <tr style=\"text-align: right;\">\n",
       "      <th></th>\n",
       "      <th>series_id</th>\n",
       "      <th>measurement_number</th>\n",
       "      <th>orientation_X</th>\n",
       "      <th>orientation_Y</th>\n",
       "      <th>orientation_Z</th>\n",
       "      <th>orientation_W</th>\n",
       "      <th>angular_velocity_X</th>\n",
       "      <th>angular_velocity_Y</th>\n",
       "      <th>angular_velocity_Z</th>\n",
       "      <th>linear_acceleration_X</th>\n",
       "      <th>linear_acceleration_Y</th>\n",
       "      <th>linear_acceleration_Z</th>\n",
       "    </tr>\n",
       "  </thead>\n",
       "  <tbody>\n",
       "    <tr>\n",
       "      <th>count</th>\n",
       "      <td>488448.000000</td>\n",
       "      <td>488448.000000</td>\n",
       "      <td>488448.000000</td>\n",
       "      <td>488448.000000</td>\n",
       "      <td>488448.000000</td>\n",
       "      <td>488448.000000</td>\n",
       "      <td>488448.000000</td>\n",
       "      <td>488448.000000</td>\n",
       "      <td>488448.000000</td>\n",
       "      <td>488448.000000</td>\n",
       "      <td>488448.000000</td>\n",
       "      <td>488448.000000</td>\n",
       "    </tr>\n",
       "    <tr>\n",
       "      <th>mean</th>\n",
       "      <td>1907.500000</td>\n",
       "      <td>63.500000</td>\n",
       "      <td>0.031996</td>\n",
       "      <td>0.120651</td>\n",
       "      <td>0.018735</td>\n",
       "      <td>0.004024</td>\n",
       "      <td>0.000401</td>\n",
       "      <td>0.013669</td>\n",
       "      <td>-0.036101</td>\n",
       "      <td>0.125433</td>\n",
       "      <td>2.906588</td>\n",
       "      <td>-9.359811</td>\n",
       "    </tr>\n",
       "    <tr>\n",
       "      <th>std</th>\n",
       "      <td>1101.585403</td>\n",
       "      <td>36.949327</td>\n",
       "      <td>0.671977</td>\n",
       "      <td>0.714522</td>\n",
       "      <td>0.108481</td>\n",
       "      <td>0.100957</td>\n",
       "      <td>0.114485</td>\n",
       "      <td>0.089440</td>\n",
       "      <td>0.233791</td>\n",
       "      <td>1.832639</td>\n",
       "      <td>2.094727</td>\n",
       "      <td>2.802670</td>\n",
       "    </tr>\n",
       "    <tr>\n",
       "      <th>min</th>\n",
       "      <td>0.000000</td>\n",
       "      <td>0.000000</td>\n",
       "      <td>-0.989720</td>\n",
       "      <td>-0.989810</td>\n",
       "      <td>-0.154680</td>\n",
       "      <td>-0.156270</td>\n",
       "      <td>-2.403300</td>\n",
       "      <td>-1.193000</td>\n",
       "      <td>-1.458200</td>\n",
       "      <td>-35.040000</td>\n",
       "      <td>-107.480000</td>\n",
       "      <td>-83.173000</td>\n",
       "    </tr>\n",
       "    <tr>\n",
       "      <th>25%</th>\n",
       "      <td>953.750000</td>\n",
       "      <td>31.750000</td>\n",
       "      <td>-0.648130</td>\n",
       "      <td>-0.744503</td>\n",
       "      <td>-0.112660</td>\n",
       "      <td>-0.098435</td>\n",
       "      <td>-0.037396</td>\n",
       "      <td>-0.029865</td>\n",
       "      <td>-0.089842</td>\n",
       "      <td>-0.486233</td>\n",
       "      <td>2.052100</td>\n",
       "      <td>-10.125000</td>\n",
       "    </tr>\n",
       "    <tr>\n",
       "      <th>50%</th>\n",
       "      <td>1907.500000</td>\n",
       "      <td>63.500000</td>\n",
       "      <td>0.132910</td>\n",
       "      <td>0.397860</td>\n",
       "      <td>0.057271</td>\n",
       "      <td>0.022654</td>\n",
       "      <td>0.001107</td>\n",
       "      <td>0.007276</td>\n",
       "      <td>-0.008911</td>\n",
       "      <td>0.112490</td>\n",
       "      <td>2.900300</td>\n",
       "      <td>-9.361700</td>\n",
       "    </tr>\n",
       "    <tr>\n",
       "      <th>75%</th>\n",
       "      <td>2861.250000</td>\n",
       "      <td>95.250000</td>\n",
       "      <td>0.575270</td>\n",
       "      <td>0.803600</td>\n",
       "      <td>0.124770</td>\n",
       "      <td>0.083706</td>\n",
       "      <td>0.037827</td>\n",
       "      <td>0.051112</td>\n",
       "      <td>0.057876</td>\n",
       "      <td>0.727250</td>\n",
       "      <td>3.758000</td>\n",
       "      <td>-8.582075</td>\n",
       "    </tr>\n",
       "    <tr>\n",
       "      <th>max</th>\n",
       "      <td>3815.000000</td>\n",
       "      <td>127.000000</td>\n",
       "      <td>0.989320</td>\n",
       "      <td>0.988940</td>\n",
       "      <td>0.154250</td>\n",
       "      <td>0.152510</td>\n",
       "      <td>3.396600</td>\n",
       "      <td>1.150700</td>\n",
       "      <td>0.960280</td>\n",
       "      <td>36.628000</td>\n",
       "      <td>55.624000</td>\n",
       "      <td>59.633000</td>\n",
       "    </tr>\n",
       "  </tbody>\n",
       "</table>\n",
       "</div>"
      ],
      "text/plain": [
       "           series_id  measurement_number  orientation_X  orientation_Y  \\\n",
       "count  488448.000000       488448.000000  488448.000000  488448.000000   \n",
       "mean     1907.500000           63.500000       0.031996       0.120651   \n",
       "std      1101.585403           36.949327       0.671977       0.714522   \n",
       "min         0.000000            0.000000      -0.989720      -0.989810   \n",
       "25%       953.750000           31.750000      -0.648130      -0.744503   \n",
       "50%      1907.500000           63.500000       0.132910       0.397860   \n",
       "75%      2861.250000           95.250000       0.575270       0.803600   \n",
       "max      3815.000000          127.000000       0.989320       0.988940   \n",
       "\n",
       "       orientation_Z  orientation_W  angular_velocity_X  angular_velocity_Y  \\\n",
       "count  488448.000000  488448.000000       488448.000000       488448.000000   \n",
       "mean        0.018735       0.004024            0.000401            0.013669   \n",
       "std         0.108481       0.100957            0.114485            0.089440   \n",
       "min        -0.154680      -0.156270           -2.403300           -1.193000   \n",
       "25%        -0.112660      -0.098435           -0.037396           -0.029865   \n",
       "50%         0.057271       0.022654            0.001107            0.007276   \n",
       "75%         0.124770       0.083706            0.037827            0.051112   \n",
       "max         0.154250       0.152510            3.396600            1.150700   \n",
       "\n",
       "       angular_velocity_Z  linear_acceleration_X  linear_acceleration_Y  \\\n",
       "count       488448.000000          488448.000000          488448.000000   \n",
       "mean            -0.036101               0.125433               2.906588   \n",
       "std              0.233791               1.832639               2.094727   \n",
       "min             -1.458200             -35.040000            -107.480000   \n",
       "25%             -0.089842              -0.486233               2.052100   \n",
       "50%             -0.008911               0.112490               2.900300   \n",
       "75%              0.057876               0.727250               3.758000   \n",
       "max              0.960280              36.628000              55.624000   \n",
       "\n",
       "       linear_acceleration_Z  \n",
       "count          488448.000000  \n",
       "mean               -9.359811  \n",
       "std                 2.802670  \n",
       "min               -83.173000  \n",
       "25%               -10.125000  \n",
       "50%                -9.361700  \n",
       "75%                -8.582075  \n",
       "max                59.633000  "
      ]
     },
     "execution_count": 38,
     "metadata": {},
     "output_type": "execute_result"
    }
   ],
   "source": [
    "x_test.describe()"
   ]
  },
  {
   "cell_type": "code",
   "execution_count": 68,
   "metadata": {
    "scrolled": true
   },
   "outputs": [
    {
     "data": {
      "text/html": [
       "<div>\n",
       "<style scoped>\n",
       "    .dataframe tbody tr th:only-of-type {\n",
       "        vertical-align: middle;\n",
       "    }\n",
       "\n",
       "    .dataframe tbody tr th {\n",
       "        vertical-align: top;\n",
       "    }\n",
       "\n",
       "    .dataframe thead th {\n",
       "        text-align: right;\n",
       "    }\n",
       "</style>\n",
       "<table border=\"1\" class=\"dataframe\">\n",
       "  <thead>\n",
       "    <tr style=\"text-align: right;\">\n",
       "      <th></th>\n",
       "      <th>surface</th>\n",
       "    </tr>\n",
       "  </thead>\n",
       "  <tbody>\n",
       "    <tr>\n",
       "      <th>count</th>\n",
       "      <td>3810</td>\n",
       "    </tr>\n",
       "    <tr>\n",
       "      <th>unique</th>\n",
       "      <td>9</td>\n",
       "    </tr>\n",
       "    <tr>\n",
       "      <th>top</th>\n",
       "      <td>concrete</td>\n",
       "    </tr>\n",
       "    <tr>\n",
       "      <th>freq</th>\n",
       "      <td>779</td>\n",
       "    </tr>\n",
       "  </tbody>\n",
       "</table>\n",
       "</div>"
      ],
      "text/plain": [
       "         surface\n",
       "count       3810\n",
       "unique         9\n",
       "top     concrete\n",
       "freq         779"
      ]
     },
     "execution_count": 68,
     "metadata": {},
     "output_type": "execute_result"
    }
   ],
   "source": [
    "y_train.describe(include='object')"
   ]
  },
  {
   "cell_type": "markdown",
   "metadata": {},
   "source": [
    "#### Observation:\n",
    "There is the same number of series in X_train and y_train, numbered from 0 to 3809 (total 3810). Each series have 128 measurements.\n",
    "Each series in train dataset is part of a group (numbered from 0 to 72, 72 being the half of 128).\n",
    "The number of rows in X_train and X_test differs with 6 x 128, 128 being the number of measurements for each group."
   ]
  },
  {
   "cell_type": "markdown",
   "metadata": {},
   "source": [
    "### Distribution of target variable:"
   ]
  },
  {
   "cell_type": "code",
   "execution_count": 40,
   "metadata": {},
   "outputs": [
    {
     "data": {
      "image/png": "[encoded data removed]",
      "text/plain": [
       "<Figure size 1080x360 with 1 Axes>"
      ]
     },
     "metadata": {
      "needs_background": "light"
     },
     "output_type": "display_data"
    }
   ],
   "source": [
    "import warnings\n",
    "warnings.filterwarnings('ignore')\n",
    "f, ax = plt.subplots(1,1, figsize=(15,5))\n",
    "graph = sns.countplot(y_train['surface'])\n",
    "graph.set_title(\"Number of labels for each class\")\n",
    "plt.show()    "
   ]
  },
  {
   "cell_type": "markdown",
   "metadata": {},
   "source": [
    "### Distribution of Train(red) and Test(green) features:"
   ]
  },
  {
   "cell_type": "code",
   "execution_count": 41,
   "metadata": {
    "scrolled": true
   },
   "outputs": [
    {
     "data": {
      "image/png": "[encoded data removed]",
      "text/plain": [
       "<Figure size 1872x1152 with 10 Axes>"
      ]
     },
     "metadata": {
      "needs_background": "light"
     },
     "output_type": "display_data"
    }
   ],
   "source": [
    "plt.figure(figsize=(26, 16))\n",
    "for i, col in enumerate(x_train.columns[3:]):\n",
    "    plt.subplot(3, 4, i+1)\n",
    "    plt.hist(x_train[col], color='red', bins=100)\n",
    "    plt.hist(x_test[col], color='green', bins=100)\n",
    "    plt.title(col)"
   ]
  },
  {
   "cell_type": "markdown",
   "metadata": {},
   "source": [
    "#### Observations: \n",
    "- Velocity and acceleration have normal distribution\n",
    "- Feature distributions in train and test are quite similar."
   ]
  },
  {
   "cell_type": "code",
   "execution_count": 71,
   "metadata": {},
   "outputs": [
    {
     "data": {
      "image/png": "[encoded data removed]",
      "text/plain": [
       "<Figure size 1440x720 with 14 Axes>"
      ]
     },
     "metadata": {
      "needs_background": "light"
     },
     "output_type": "display_data"
    }
   ],
   "source": [
    "fig, axs = plt.subplots(ncols=7, nrows=2, figsize=(20, 10))\n",
    "index = 0\n",
    "axs = axs.flatten()\n",
    "for k,v in x_test.items():\n",
    " sns.boxplot(y=k, data=x_test, ax=axs[index])\n",
    " index += 1\n",
    "plt.tight_layout(pad=0.4, w_pad=0.5, h_pad=5.0)"
   ]
  },
  {
   "cell_type": "markdown",
   "metadata": {},
   "source": [
    "### Correlation heatmaps: "
   ]
  },
  {
   "cell_type": "code",
   "execution_count": 42,
   "metadata": {},
   "outputs": [
    {
     "data": {
      "text/plain": [
       "<matplotlib.axes._subplots.AxesSubplot at 0x2a28f171b48>"
      ]
     },
     "execution_count": 42,
     "metadata": {},
     "output_type": "execute_result"
    },
    {
     "data": {
      "image/png": "[encoded data removed]",
      "text/plain": [
       "<Figure size 576x576 with 2 Axes>"
      ]
     },
     "metadata": {
      "needs_background": "light"
     },
     "output_type": "display_data"
    }
   ],
   "source": [
    "f,ax = plt.subplots(figsize=(8, 8))\n",
    "sns.heatmap(x_train.iloc[:,3:].corr(), annot=True, linewidths=.5)"
   ]
  },
  {
   "cell_type": "code",
   "execution_count": 43,
   "metadata": {},
   "outputs": [
    {
     "data": {
      "text/plain": [
       "<matplotlib.axes._subplots.AxesSubplot at 0x2a2939f3608>"
      ]
     },
     "execution_count": 43,
     "metadata": {},
     "output_type": "execute_result"
    },
    {
     "data": {
      "image/png": "[encoded data removed]",
      "text/plain": [
       "<Figure size 576x576 with 2 Axes>"
      ]
     },
     "metadata": {
      "needs_background": "light"
     },
     "output_type": "display_data"
    }
   ],
   "source": [
    "f,ax = plt.subplots(figsize=(8, 8))\n",
    "sns.heatmap(x_test.iloc[:,3:].corr(), annot=True, linewidths=.5)"
   ]
  },
  {
   "cell_type": "markdown",
   "metadata": {},
   "source": [
    "### Observation:\n",
    "#### There is a strong correlation between:\n",
    "- angular_velocity_Z and angular_velocity_Y\n",
    "- orientation_X and orientation_Y\n",
    "- orientation_Y and orientation_Z"
   ]
  },
  {
   "cell_type": "markdown",
   "metadata": {},
   "source": [
    "## Feature Engineering: \n"
   ]
  },
  {
   "cell_type": "markdown",
   "metadata": {},
   "source": [
    "#### Merging x_train and y_train into a single data-frame\n"
   ]
  },
  {
   "cell_type": "code",
   "execution_count": 44,
   "metadata": {},
   "outputs": [
    {
     "data": {
      "text/html": [
       "<div>\n",
       "<style scoped>\n",
       "    .dataframe tbody tr th:only-of-type {\n",
       "        vertical-align: middle;\n",
       "    }\n",
       "\n",
       "    .dataframe tbody tr th {\n",
       "        vertical-align: top;\n",
       "    }\n",
       "\n",
       "    .dataframe thead th {\n",
       "        text-align: right;\n",
       "    }\n",
       "</style>\n",
       "<table border=\"1\" class=\"dataframe\">\n",
       "  <thead>\n",
       "    <tr style=\"text-align: right;\">\n",
       "      <th></th>\n",
       "      <th>row_id</th>\n",
       "      <th>series_id</th>\n",
       "      <th>measurement_number</th>\n",
       "      <th>orientation_X</th>\n",
       "      <th>orientation_Y</th>\n",
       "      <th>orientation_Z</th>\n",
       "      <th>orientation_W</th>\n",
       "      <th>angular_velocity_X</th>\n",
       "      <th>angular_velocity_Y</th>\n",
       "      <th>angular_velocity_Z</th>\n",
       "      <th>linear_acceleration_X</th>\n",
       "      <th>linear_acceleration_Y</th>\n",
       "      <th>linear_acceleration_Z</th>\n",
       "      <th>group_id</th>\n",
       "      <th>surface</th>\n",
       "    </tr>\n",
       "  </thead>\n",
       "  <tbody>\n",
       "    <tr>\n",
       "      <th>427725</th>\n",
       "      <td>3341_77</td>\n",
       "      <td>3341</td>\n",
       "      <td>77</td>\n",
       "      <td>-0.9848</td>\n",
       "      <td>0.082082</td>\n",
       "      <td>0.007407</td>\n",
       "      <td>-0.1529</td>\n",
       "      <td>0.09312</td>\n",
       "      <td>-0.01386</td>\n",
       "      <td>0.036761</td>\n",
       "      <td>-4.4419</td>\n",
       "      <td>3.9123</td>\n",
       "      <td>-14.938</td>\n",
       "      <td>71</td>\n",
       "      <td>tiled</td>\n",
       "    </tr>\n",
       "  </tbody>\n",
       "</table>\n",
       "</div>"
      ],
      "text/plain": [
       "         row_id  series_id  measurement_number  orientation_X  orientation_Y  \\\n",
       "427725  3341_77       3341                  77        -0.9848       0.082082   \n",
       "\n",
       "        orientation_Z  orientation_W  angular_velocity_X  angular_velocity_Y  \\\n",
       "427725       0.007407        -0.1529             0.09312            -0.01386   \n",
       "\n",
       "        angular_velocity_Z  linear_acceleration_X  linear_acceleration_Y  \\\n",
       "427725            0.036761                -4.4419                 3.9123   \n",
       "\n",
       "        linear_acceleration_Z  group_id surface  \n",
       "427725                -14.938        71   tiled  "
      ]
     },
     "execution_count": 44,
     "metadata": {},
     "output_type": "execute_result"
    }
   ],
   "source": [
    "df = pd.merge(x_train,y_train,how='left',on='series_id')\n",
    "df.sample()"
   ]
  },
  {
   "cell_type": "code",
   "execution_count": 45,
   "metadata": {},
   "outputs": [
    {
     "data": {
      "text/html": [
       "<div>\n",
       "<style scoped>\n",
       "    .dataframe tbody tr th:only-of-type {\n",
       "        vertical-align: middle;\n",
       "    }\n",
       "\n",
       "    .dataframe tbody tr th {\n",
       "        vertical-align: top;\n",
       "    }\n",
       "\n",
       "    .dataframe thead th {\n",
       "        text-align: right;\n",
       "    }\n",
       "</style>\n",
       "<table border=\"1\" class=\"dataframe\">\n",
       "  <thead>\n",
       "    <tr style=\"text-align: right;\">\n",
       "      <th></th>\n",
       "      <th>series_id</th>\n",
       "      <th>orientation_X</th>\n",
       "      <th>orientation_Y</th>\n",
       "      <th>orientation_Z</th>\n",
       "      <th>orientation_W</th>\n",
       "      <th>angular_velocity_X</th>\n",
       "      <th>angular_velocity_Y</th>\n",
       "      <th>angular_velocity_Z</th>\n",
       "      <th>linear_acceleration_X</th>\n",
       "      <th>linear_acceleration_Y</th>\n",
       "      <th>linear_acceleration_Z</th>\n",
       "      <th>surface</th>\n",
       "    </tr>\n",
       "  </thead>\n",
       "  <tbody>\n",
       "    <tr>\n",
       "      <th>337671</th>\n",
       "      <td>2638</td>\n",
       "      <td>-0.95176</td>\n",
       "      <td>0.26741</td>\n",
       "      <td>0.034794</td>\n",
       "      <td>-0.146390</td>\n",
       "      <td>-0.028428</td>\n",
       "      <td>0.043255</td>\n",
       "      <td>-0.12134</td>\n",
       "      <td>-0.001412</td>\n",
       "      <td>1.2668</td>\n",
       "      <td>-9.8393</td>\n",
       "      <td>tiled</td>\n",
       "    </tr>\n",
       "    <tr>\n",
       "      <th>238244</th>\n",
       "      <td>1861</td>\n",
       "      <td>0.11640</td>\n",
       "      <td>0.98232</td>\n",
       "      <td>0.146260</td>\n",
       "      <td>0.009979</td>\n",
       "      <td>-0.022359</td>\n",
       "      <td>0.127030</td>\n",
       "      <td>-0.21537</td>\n",
       "      <td>-2.688400</td>\n",
       "      <td>3.5326</td>\n",
       "      <td>-19.4800</td>\n",
       "      <td>hard_tiles_large_space</td>\n",
       "    </tr>\n",
       "  </tbody>\n",
       "</table>\n",
       "</div>"
      ],
      "text/plain": [
       "        series_id  orientation_X  orientation_Y  orientation_Z  orientation_W  \\\n",
       "337671       2638       -0.95176        0.26741       0.034794      -0.146390   \n",
       "238244       1861        0.11640        0.98232       0.146260       0.009979   \n",
       "\n",
       "        angular_velocity_X  angular_velocity_Y  angular_velocity_Z  \\\n",
       "337671           -0.028428            0.043255            -0.12134   \n",
       "238244           -0.022359            0.127030            -0.21537   \n",
       "\n",
       "        linear_acceleration_X  linear_acceleration_Y  linear_acceleration_Z  \\\n",
       "337671              -0.001412                 1.2668                -9.8393   \n",
       "238244              -2.688400                 3.5326               -19.4800   \n",
       "\n",
       "                       surface  \n",
       "337671                   tiled  \n",
       "238244  hard_tiles_large_space  "
      ]
     },
     "execution_count": 45,
     "metadata": {},
     "output_type": "execute_result"
    }
   ],
   "source": [
    "df.drop(columns=[\"row_id\",\"measurement_number\",\"group_id\"], inplace=True)\n",
    "df.sample(2)"
   ]
  },
  {
   "cell_type": "code",
   "execution_count": 46,
   "metadata": {},
   "outputs": [
    {
     "data": {
      "text/html": [
       "<div>\n",
       "<style scoped>\n",
       "    .dataframe tbody tr th:only-of-type {\n",
       "        vertical-align: middle;\n",
       "    }\n",
       "\n",
       "    .dataframe tbody tr th {\n",
       "        vertical-align: top;\n",
       "    }\n",
       "\n",
       "    .dataframe thead th {\n",
       "        text-align: right;\n",
       "    }\n",
       "</style>\n",
       "<table border=\"1\" class=\"dataframe\">\n",
       "  <thead>\n",
       "    <tr style=\"text-align: right;\">\n",
       "      <th></th>\n",
       "      <th>series_id</th>\n",
       "      <th>orientation_X</th>\n",
       "      <th>orientation_Y</th>\n",
       "      <th>orientation_Z</th>\n",
       "      <th>orientation_W</th>\n",
       "      <th>angular_velocity_X</th>\n",
       "      <th>angular_velocity_Y</th>\n",
       "      <th>angular_velocity_Z</th>\n",
       "      <th>linear_acceleration_X</th>\n",
       "      <th>linear_acceleration_Y</th>\n",
       "      <th>linear_acceleration_Z</th>\n",
       "      <th>group_id</th>\n",
       "      <th>surface</th>\n",
       "    </tr>\n",
       "  </thead>\n",
       "  <tbody>\n",
       "    <tr>\n",
       "      <th>331</th>\n",
       "      <td>331</td>\n",
       "      <td>-0.388866</td>\n",
       "      <td>-0.908631</td>\n",
       "      <td>-0.144438</td>\n",
       "      <td>-0.048040</td>\n",
       "      <td>0.009423</td>\n",
       "      <td>0.011492</td>\n",
       "      <td>-0.028115</td>\n",
       "      <td>0.107944</td>\n",
       "      <td>2.788231</td>\n",
       "      <td>-9.415370</td>\n",
       "      <td>34</td>\n",
       "      <td>soft_pvc</td>\n",
       "    </tr>\n",
       "    <tr>\n",
       "      <th>69</th>\n",
       "      <td>69</td>\n",
       "      <td>0.800486</td>\n",
       "      <td>-0.580899</td>\n",
       "      <td>-0.082066</td>\n",
       "      <td>0.122626</td>\n",
       "      <td>0.004783</td>\n",
       "      <td>-0.013803</td>\n",
       "      <td>0.048954</td>\n",
       "      <td>0.332432</td>\n",
       "      <td>3.031714</td>\n",
       "      <td>-9.387068</td>\n",
       "      <td>3</td>\n",
       "      <td>soft_pvc</td>\n",
       "    </tr>\n",
       "    <tr>\n",
       "      <th>732</th>\n",
       "      <td>732</td>\n",
       "      <td>0.226724</td>\n",
       "      <td>0.961707</td>\n",
       "      <td>0.151068</td>\n",
       "      <td>0.029913</td>\n",
       "      <td>0.000041</td>\n",
       "      <td>0.002205</td>\n",
       "      <td>-0.000668</td>\n",
       "      <td>0.091480</td>\n",
       "      <td>2.940012</td>\n",
       "      <td>-9.350987</td>\n",
       "      <td>23</td>\n",
       "      <td>wood</td>\n",
       "    </tr>\n",
       "  </tbody>\n",
       "</table>\n",
       "</div>"
      ],
      "text/plain": [
       "     series_id  orientation_X  orientation_Y  orientation_Z  orientation_W  \\\n",
       "331        331      -0.388866      -0.908631      -0.144438      -0.048040   \n",
       "69          69       0.800486      -0.580899      -0.082066       0.122626   \n",
       "732        732       0.226724       0.961707       0.151068       0.029913   \n",
       "\n",
       "     angular_velocity_X  angular_velocity_Y  angular_velocity_Z  \\\n",
       "331            0.009423            0.011492           -0.028115   \n",
       "69             0.004783           -0.013803            0.048954   \n",
       "732            0.000041            0.002205           -0.000668   \n",
       "\n",
       "     linear_acceleration_X  linear_acceleration_Y  linear_acceleration_Z  \\\n",
       "331               0.107944               2.788231              -9.415370   \n",
       "69                0.332432               3.031714              -9.387068   \n",
       "732               0.091480               2.940012              -9.350987   \n",
       "\n",
       "     group_id   surface  \n",
       "331        34  soft_pvc  \n",
       "69          3  soft_pvc  \n",
       "732        23      wood  "
      ]
     },
     "execution_count": 46,
     "metadata": {},
     "output_type": "execute_result"
    }
   ],
   "source": [
    "just_check =  df.groupby(\"series_id\").mean().reset_index()\n",
    "df = pd.merge(just_check,y_train,how='left',on='series_id')\n",
    "df.sample(3)"
   ]
  },
  {
   "cell_type": "code",
   "execution_count": 47,
   "metadata": {},
   "outputs": [],
   "source": [
    "df.drop(columns=[\"series_id\",\"group_id\"],inplace=True)"
   ]
  },
  {
   "cell_type": "markdown",
   "metadata": {},
   "source": [
    "### Model Building:"
   ]
  },
  {
   "cell_type": "markdown",
   "metadata": {},
   "source": [
    "### Splitting merged data frame into train and test splits:"
   ]
  },
  {
   "cell_type": "code",
   "execution_count": 48,
   "metadata": {},
   "outputs": [],
   "source": [
    "from sklearn.model_selection import train_test_split\n",
    "from sklearn.preprocessing import StandardScaler\n",
    "scaler = StandardScaler()\n",
    "train = scaler.fit_transform(df[df.columns[:-1]])\n",
    "train_x, test_x, train_y, test_y = train_test_split(train,df[df.columns[-1]],test_size = 0.1)"
   ]
  },
  {
   "cell_type": "code",
   "execution_count": 49,
   "metadata": {},
   "outputs": [
    {
     "data": {
      "text/plain": [
       "(3429, 10)"
      ]
     },
     "execution_count": 49,
     "metadata": {},
     "output_type": "execute_result"
    }
   ],
   "source": [
    "train_x.shape"
   ]
  },
  {
   "cell_type": "markdown",
   "metadata": {},
   "source": [
    "#### Random Forest base model"
   ]
  },
  {
   "cell_type": "code",
   "execution_count": 50,
   "metadata": {},
   "outputs": [
    {
     "name": "stdout",
     "output_type": "stream",
     "text": [
      "******confusion******\n",
      " [[11  3  0  0  0  0  1  3  3]\n",
      " [ 0 68  3  0  0  7  0  1  4]\n",
      " [ 0  2 24  0  0  0  0  0  2]\n",
      " [ 0  0  0  2  1  0  0  0  0]\n",
      " [ 1  2  1  0 23  1  1  1  2]\n",
      " [ 0  1  2  0  1 71  0  1  2]\n",
      " [ 0  6  1  0  1  4 21  1  0]\n",
      " [ 1  3  0  0  0  4  0 43  3]\n",
      " [ 0  5  3  0  1  2  1  2 34]]\n"
     ]
    }
   ],
   "source": [
    "from sklearn.metrics import confusion_matrix\n",
    "from sklearn.ensemble import RandomForestClassifier\n",
    "model = RandomForestClassifier()\n",
    "model.fit(train_x, train_y)\n",
    "target = model.predict(test_x)\n",
    "mat = confusion_matrix(test_y, target)\n",
    "print(\"******confusion******\\n\",mat)"
   ]
  },
  {
   "cell_type": "code",
   "execution_count": 51,
   "metadata": {},
   "outputs": [
    {
     "data": {
      "text/plain": [
       "(3816, 11)"
      ]
     },
     "execution_count": 51,
     "metadata": {},
     "output_type": "execute_result"
    }
   ],
   "source": [
    "x_test.drop(columns=[\"row_id\",\"measurement_number\"],inplace=True)\n",
    "testing = x_test.groupby(\"series_id\").mean().reset_index()\n",
    "testing.sample(3)\n",
    "testing.shape"
   ]
  },
  {
   "cell_type": "code",
   "execution_count": 52,
   "metadata": {},
   "outputs": [],
   "source": [
    "from sklearn.preprocessing import StandardScaler\n",
    "scale = StandardScaler()\n",
    "fin_train = scale.fit_transform(df[df.columns[:-1]])\n",
    "test = scale.transform(testing[testing.columns[1:]])"
   ]
  },
  {
   "cell_type": "markdown",
   "metadata": {},
   "source": [
    "#### Final model:  XG boosted Classifier"
   ]
  },
  {
   "cell_type": "code",
   "execution_count": 53,
   "metadata": {},
   "outputs": [],
   "source": [
    "from xgboost import XGBClassifier\n",
    "\n",
    "model = XGBClassifier()\n",
    "model.fit(fin_train,df[df.columns[-1]])\n",
    "target = model.predict(test)"
   ]
  },
  {
   "cell_type": "code",
   "execution_count": 54,
   "metadata": {
    "scrolled": true
   },
   "outputs": [],
   "source": [
    "a = testing.series_id.tolist()\n",
    "b = target\n",
    "submission = pd.DataFrame({\"series_id\":a,\"surface\":b})"
   ]
  },
  {
   "cell_type": "code",
   "execution_count": 55,
   "metadata": {},
   "outputs": [
    {
     "data": {
      "text/plain": [
       "concrete                  1086\n",
       "wood                       702\n",
       "soft_pvc                   569\n",
       "fine_concrete              378\n",
       "tiled                      334\n",
       "hard_tiles_large_space     312\n",
       "soft_tiles                 268\n",
       "carpet                     163\n",
       "hard_tiles                   4\n",
       "Name: surface, dtype: int64"
      ]
     },
     "execution_count": 55,
     "metadata": {},
     "output_type": "execute_result"
    }
   ],
   "source": [
    "submission.surface.value_counts()"
   ]
  },
  {
   "cell_type": "code",
   "execution_count": 56,
   "metadata": {},
   "outputs": [],
   "source": [
    "submission.to_csv(\"submission_final.csv\",index=False)"
   ]
  },
  {
   "cell_type": "code",
   "execution_count": 57,
   "metadata": {},
   "outputs": [
    {
     "name": "stdout",
     "output_type": "stream",
     "text": [
      "[07:15:29] WARNING: C:\\Users\\Administrator\\workspace\\xgboost-win64_release_1.2.0\\src\\learner.cc:516: \n",
      "Parameters: { model_depth } might not be used.\n",
      "\n",
      "  This may not be accurate due to some parameters are only used in language bindings but\n",
      "  passed down to XGBoost core.  Or some parameters are not used but slip through this\n",
      "  verification. Please open an issue if you find above cases.\n",
      "\n",
      "\n",
      "accuracy :  0.7926509186351706\n",
      "[07:15:31] WARNING: C:\\Users\\Administrator\\workspace\\xgboost-win64_release_1.2.0\\src\\learner.cc:516: \n",
      "Parameters: { model_depth } might not be used.\n",
      "\n",
      "  This may not be accurate due to some parameters are only used in language bindings but\n",
      "  passed down to XGBoost core.  Or some parameters are not used but slip through this\n",
      "  verification. Please open an issue if you find above cases.\n",
      "\n",
      "\n",
      "accuracy :  0.7926509186351706\n",
      "[07:15:33] WARNING: C:\\Users\\Administrator\\workspace\\xgboost-win64_release_1.2.0\\src\\learner.cc:516: \n",
      "Parameters: { model_depth } might not be used.\n",
      "\n",
      "  This may not be accurate due to some parameters are only used in language bindings but\n",
      "  passed down to XGBoost core.  Or some parameters are not used but slip through this\n",
      "  verification. Please open an issue if you find above cases.\n",
      "\n",
      "\n",
      "accuracy :  0.7926509186351706\n",
      "[07:15:35] WARNING: C:\\Users\\Administrator\\workspace\\xgboost-win64_release_1.2.0\\src\\learner.cc:516: \n",
      "Parameters: { model_depth } might not be used.\n",
      "\n",
      "  This may not be accurate due to some parameters are only used in language bindings but\n",
      "  passed down to XGBoost core.  Or some parameters are not used but slip through this\n",
      "  verification. Please open an issue if you find above cases.\n",
      "\n",
      "\n",
      "accuracy :  0.7926509186351706\n",
      "[07:15:37] WARNING: C:\\Users\\Administrator\\workspace\\xgboost-win64_release_1.2.0\\src\\learner.cc:516: \n",
      "Parameters: { model_depth } might not be used.\n",
      "\n",
      "  This may not be accurate due to some parameters are only used in language bindings but\n",
      "  passed down to XGBoost core.  Or some parameters are not used but slip through this\n",
      "  verification. Please open an issue if you find above cases.\n",
      "\n",
      "\n",
      "accuracy :  0.7926509186351706\n",
      "[07:15:39] WARNING: C:\\Users\\Administrator\\workspace\\xgboost-win64_release_1.2.0\\src\\learner.cc:516: \n",
      "Parameters: { model_depth } might not be used.\n",
      "\n",
      "  This may not be accurate due to some parameters are only used in language bindings but\n",
      "  passed down to XGBoost core.  Or some parameters are not used but slip through this\n",
      "  verification. Please open an issue if you find above cases.\n",
      "\n",
      "\n",
      "accuracy :  0.7926509186351706\n",
      "******confusion matrix******\n",
      " [[14  3  0  0  0  0  0  2  2]\n",
      " [ 0 74  2  0  0  4  0  0  3]\n",
      " [ 0  1 25  0  0  0  1  0  1]\n",
      " [ 0  0  0  1  1  1  0  0  0]\n",
      " [ 1  1  1  0 24  2  1  1  1]\n",
      " [ 0  1  2  0  1 69  0  1  4]\n",
      " [ 0  7  1  0  1  3 21  1  0]\n",
      " [ 2  4  0  0  0  3  2 39  4]\n",
      " [ 1  4  3  0  0  3  0  2 35]]\n"
     ]
    }
   ],
   "source": [
    "import warnings \n",
    "warnings.filterwarnings('ignore')\n",
    "from sklearn.metrics import confusion_matrix,accuracy_score\n",
    "from xgboost import XGBClassifier\n",
    "for i in range(4,10):\n",
    "    model = XGBClassifier(model_depth = i)\n",
    "    model.fit(train_x, train_y)\n",
    "    target = model.predict(test_x)\n",
    "    print(\"accuracy : \", accuracy_score(target, test_y))\n",
    "mat = confusion_matrix(test_y, target)\n",
    "print(\"******confusion matrix******\\n\",mat)"
   ]
  },
  {
   "cell_type": "markdown",
   "metadata": {},
   "source": [
    "#### Final accuracy of model : 0.79\n",
    "This was my first cut solution to the problem . A more detailed solution will be updated here in the future."
   ]
  }
 ],
 "metadata": {
  "kernelspec": {
   "display_name": "Python 3",
   "language": "python",
   "name": "python3"
  },
  "language_info": {
   "codemirror_mode": {
    "name": "ipython",
    "version": 3
   },
   "file_extension": ".py",
   "mimetype": "text/x-python",
   "name": "python",
   "nbconvert_exporter": "python",
   "pygments_lexer": "ipython3",
   "version": "3.7.4"
  }
 },
 "nbformat": 4,
 "nbformat_minor": 4
}
